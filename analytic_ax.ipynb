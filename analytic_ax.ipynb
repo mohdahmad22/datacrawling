{
 "cells": [
  {
   "cell_type": "code",
   "execution_count": 1,
   "metadata": {},
   "outputs": [],
   "source": [
    "import pandas as pd\n",
    "import numpy as np\n",
    "import matplotlib.pyplot as plt\n",
    "import seaborn as sns"
   ]
  },
  {
   "cell_type": "code",
   "execution_count": 2,
   "metadata": {},
   "outputs": [],
   "source": [
    "import os"
   ]
  },
  {
   "cell_type": "code",
   "execution_count": 3,
   "metadata": {},
   "outputs": [],
   "source": [
    "file=\"F:\\scrapy\\out.csv\""
   ]
  },
  {
   "cell_type": "code",
   "execution_count": 4,
   "metadata": {},
   "outputs": [
    {
     "data": {
      "text/plain": [
       "True"
      ]
     },
     "execution_count": 4,
     "metadata": {},
     "output_type": "execute_result"
    }
   ],
   "source": [
    "os.path.exists(file)"
   ]
  },
  {
   "cell_type": "code",
   "execution_count": 13,
   "metadata": {},
   "outputs": [],
   "source": [
    "df=pd.read_csv(file) "
   ]
  },
  {
   "cell_type": "code",
   "execution_count": 14,
   "metadata": {},
   "outputs": [
    {
     "data": {
      "text/plain": [
       "100"
      ]
     },
     "execution_count": 14,
     "metadata": {},
     "output_type": "execute_result"
    }
   ],
   "source": [
    "len(df)"
   ]
  },
  {
   "cell_type": "code",
   "execution_count": 15,
   "metadata": {},
   "outputs": [
    {
     "data": {
      "text/html": [
       "<div>\n",
       "<style scoped>\n",
       "    .dataframe tbody tr th:only-of-type {\n",
       "        vertical-align: middle;\n",
       "    }\n",
       "\n",
       "    .dataframe tbody tr th {\n",
       "        vertical-align: top;\n",
       "    }\n",
       "\n",
       "    .dataframe thead th {\n",
       "        text-align: right;\n",
       "    }\n",
       "</style>\n",
       "<table border=\"1\" class=\"dataframe\">\n",
       "  <thead>\n",
       "    <tr style=\"text-align: right;\">\n",
       "      <th></th>\n",
       "      <th>title</th>\n",
       "      <th>artist</th>\n",
       "      <th>rank</th>\n",
       "      <th>link</th>\n",
       "      <th>imgsrc</th>\n",
       "    </tr>\n",
       "  </thead>\n",
       "  <tbody>\n",
       "    <tr>\n",
       "      <th>0</th>\n",
       "      <td>Tera Ghata</td>\n",
       "      <td>Gajendra Verma</td>\n",
       "      <td>1</td>\n",
       "      <td>https://itunes.apple.com/in/album/tera-ghata/1...</td>\n",
       "      <td>/autopush/in/itunes/charts/songs/images/2018/8...</td>\n",
       "    </tr>\n",
       "    <tr>\n",
       "      <th>1</th>\n",
       "      <td>Dilbar (From \"Satyameva Jayate\")</td>\n",
       "      <td>Neha Kakkar, Dhvani Bhanusali, Ikka &amp; Tanishk ...</td>\n",
       "      <td>2</td>\n",
       "      <td>https://itunes.apple.com/in/album/dilbar-from-...</td>\n",
       "      <td>/autopush/in/itunes/charts/songs/images/2018/8...</td>\n",
       "    </tr>\n",
       "    <tr>\n",
       "      <th>2</th>\n",
       "      <td>Dhadak Title Track</td>\n",
       "      <td>Ajay Gogavale &amp; Shreya Ghoshal</td>\n",
       "      <td>3</td>\n",
       "      <td>https://itunes.apple.com/in/album/dhadak-title...</td>\n",
       "      <td>/autopush/in/itunes/charts/songs/images/2018/8...</td>\n",
       "    </tr>\n",
       "    <tr>\n",
       "      <th>3</th>\n",
       "      <td>Tareefan</td>\n",
       "      <td>Qaran &amp; Badshah</td>\n",
       "      <td>4</td>\n",
       "      <td>https://itunes.apple.com/in/album/tareefan/138...</td>\n",
       "      <td>/autopush/in/itunes/charts/songs/images/2018/8...</td>\n",
       "    </tr>\n",
       "    <tr>\n",
       "      <th>4</th>\n",
       "      <td>Dilbar</td>\n",
       "      <td>Neha Kakkar, Dhvani Bhanusali &amp; Ikka</td>\n",
       "      <td>5</td>\n",
       "      <td>https://itunes.apple.com/in/album/dilbar/14204...</td>\n",
       "      <td>/autopush/in/itunes/charts/songs/images/2018/8...</td>\n",
       "    </tr>\n",
       "  </tbody>\n",
       "</table>\n",
       "</div>"
      ],
      "text/plain": [
       "                              title  \\\n",
       "0                        Tera Ghata   \n",
       "1  Dilbar (From \"Satyameva Jayate\")   \n",
       "2                Dhadak Title Track   \n",
       "3                          Tareefan   \n",
       "4                            Dilbar   \n",
       "\n",
       "                                              artist  rank  \\\n",
       "0                                     Gajendra Verma     1   \n",
       "1  Neha Kakkar, Dhvani Bhanusali, Ikka & Tanishk ...     2   \n",
       "2                     Ajay Gogavale & Shreya Ghoshal     3   \n",
       "3                                    Qaran & Badshah     4   \n",
       "4               Neha Kakkar, Dhvani Bhanusali & Ikka     5   \n",
       "\n",
       "                                                link  \\\n",
       "0  https://itunes.apple.com/in/album/tera-ghata/1...   \n",
       "1  https://itunes.apple.com/in/album/dilbar-from-...   \n",
       "2  https://itunes.apple.com/in/album/dhadak-title...   \n",
       "3  https://itunes.apple.com/in/album/tareefan/138...   \n",
       "4  https://itunes.apple.com/in/album/dilbar/14204...   \n",
       "\n",
       "                                              imgsrc  \n",
       "0  /autopush/in/itunes/charts/songs/images/2018/8...  \n",
       "1  /autopush/in/itunes/charts/songs/images/2018/8...  \n",
       "2  /autopush/in/itunes/charts/songs/images/2018/8...  \n",
       "3  /autopush/in/itunes/charts/songs/images/2018/8...  \n",
       "4  /autopush/in/itunes/charts/songs/images/2018/8...  "
      ]
     },
     "execution_count": 15,
     "metadata": {},
     "output_type": "execute_result"
    }
   ],
   "source": [
    "df.head()"
   ]
  },
  {
   "cell_type": "code",
   "execution_count": 16,
   "metadata": {},
   "outputs": [
    {
     "name": "stdout",
     "output_type": "stream",
     "text": [
      "<class 'pandas.core.frame.DataFrame'>\n",
      "RangeIndex: 100 entries, 0 to 99\n",
      "Data columns (total 5 columns):\n",
      "title     100 non-null object\n",
      "artist    100 non-null object\n",
      "rank      100 non-null int64\n",
      "link      100 non-null object\n",
      "imgsrc    100 non-null object\n",
      "dtypes: int64(1), object(4)\n",
      "memory usage: 4.0+ KB\n"
     ]
    }
   ],
   "source": [
    "df.info()"
   ]
  },
  {
   "cell_type": "code",
   "execution_count": 19,
   "metadata": {},
   "outputs": [
    {
     "data": {
      "text/plain": [
       "0                                            Tera Ghata\n",
       "1                      Dilbar (From \"Satyameva Jayate\")\n",
       "2                                    Dhadak Title Track\n",
       "3                                              Tareefan\n",
       "4                                                Dilbar\n",
       "5                                           Halka Halka\n",
       "6     Inkem Inkem Inkem Kaavaale (From \"Geetha Govin...\n",
       "7                                   Kiki Do You Love Me\n",
       "8                            Inkem Inkem Inkem Kaavaale\n",
       "9                                               Zingaat\n",
       "10                 Paniyon Sa (From \"Satyameva Jayate\")\n",
       "11                                       In My Feelings\n",
       "12                                      Chota Sa Fasana\n",
       "13                                              Dilbaro\n",
       "14               Darkside (feat. Au/Ra & Tomine Harket)\n",
       "15                                         High On Love\n",
       "16                                                Morni\n",
       "17                                                Faded\n",
       "18                                          Ishare Tere\n",
       "19                                                Prada\n",
       "20                                             Believer\n",
       "21                                           Paniyon Sa\n",
       "22                         Daryaa (From \"Manmarziyaan\")\n",
       "23                                     Dil Diyan Gallan\n",
       "24                                      Bom Diggy Diggy\n",
       "25                              Heeriye (From \"Race 3\")\n",
       "26                            Havana (feat. Young Thug)\n",
       "27                 High Rated Gabru (From \"Nawabzaade\")\n",
       "28                              Ae Watan (Male Version)\n",
       "29                                           Pehli Baar\n",
       "                            ...                        \n",
       "70                                         Lambi Judaai\n",
       "71                                 Ocean (feat. Khalid)\n",
       "72                                           Pillaa Raa\n",
       "73                                                Alone\n",
       "74                                  Shiv Tandav Stotram\n",
       "75                                           Aaya Na Tu\n",
       "76                                    Ishq Di Baajiyaan\n",
       "77               Illegal Weapon (feat. Jasmine Sandlas)\n",
       "78                                          Back to You\n",
       "79                                Kar Har Maidaan Fateh\n",
       "80                    Tera Woh Pyar (Nawazishein Karam)\n",
       "81                                     Naino Ne Baandhi\n",
       "82                           Laung Laachi (Title Track)\n",
       "83                          Tera Fitoor (From \"Genius\")\n",
       "84                     Dil Meri Na Sune (From \"Genius\")\n",
       "85                                            Happy Now\n",
       "86                                           Rain Fight\n",
       "87                                            Masstaani\n",
       "88                                             Saansein\n",
       "89                                          Ghane Badra\n",
       "90                                          Yenti Yenti\n",
       "91                                           Tu Jo Mila\n",
       "92                           rockstar (feat. 21 Savage)\n",
       "93                       Girls Like You (feat. Cardi B)\n",
       "94                                             Mohabbat\n",
       "95                                         Maa Ka Phone\n",
       "96                                           I'm a Mess\n",
       "97                                           Main Title\n",
       "98                                                 Rooh\n",
       "99                                           Tere Jaisa\n",
       "Name: title, Length: 100, dtype: object"
      ]
     },
     "execution_count": 19,
     "metadata": {},
     "output_type": "execute_result"
    }
   ],
   "source": [
    "df['title']"
   ]
  },
  {
   "cell_type": "code",
   "execution_count": 20,
   "metadata": {},
   "outputs": [
    {
     "data": {
      "text/plain": [
       "<matplotlib.axes._subplots.AxesSubplot at 0x1e9e094f198>"
      ]
     },
     "execution_count": 20,
     "metadata": {},
     "output_type": "execute_result"
    },
    {
     "data": {
      "image/png": "[encoded data removed]",
      "text/plain": [
       "<Figure size 432x288 with 1 Axes>"
      ]
     },
     "metadata": {
      "needs_background": "light"
     },
     "output_type": "display_data"
    }
   ],
   "source": [
    "df.plot()"
   ]
  },
  {
   "cell_type": "code",
   "execution_count": 31,
   "metadata": {},
   "outputs": [
    {
     "data": {
      "image/png": "[encoded data removed]",
      "text/plain": [
       "<Figure size 432x288 with 1 Axes>"
      ]
     },
     "metadata": {
      "needs_background": "light"
     },
     "output_type": "display_data"
    }
   ],
   "source": [
    "df.artist.value_counts().head(10).plot(kind='bar')\n",
    "plt.savefig('top 10 artist.png',bbox_inches='tight')"
   ]
  },
  {
   "cell_type": "code",
   "execution_count": 32,
   "metadata": {},
   "outputs": [],
   "source": [
    "file1=\"f:\\scrapy\\pokemon.csv\""
   ]
  },
  {
   "cell_type": "code",
   "execution_count": 33,
   "metadata": {},
   "outputs": [],
   "source": [
    "data=pd.read_csv(file1)"
   ]
  },
  {
   "cell_type": "code",
   "execution_count": 34,
   "metadata": {},
   "outputs": [
    {
     "data": {
      "text/html": [
       "<div>\n",
       "<style scoped>\n",
       "    .dataframe tbody tr th:only-of-type {\n",
       "        vertical-align: middle;\n",
       "    }\n",
       "\n",
       "    .dataframe tbody tr th {\n",
       "        vertical-align: top;\n",
       "    }\n",
       "\n",
       "    .dataframe thead th {\n",
       "        text-align: right;\n",
       "    }\n",
       "</style>\n",
       "<table border=\"1\" class=\"dataframe\">\n",
       "  <thead>\n",
       "    <tr style=\"text-align: right;\">\n",
       "      <th></th>\n",
       "      <th>#</th>\n",
       "      <th>Name</th>\n",
       "      <th>Type 1</th>\n",
       "      <th>Type 2</th>\n",
       "      <th>HP</th>\n",
       "      <th>Attack</th>\n",
       "      <th>Defense</th>\n",
       "      <th>Sp. Atk</th>\n",
       "      <th>Sp. Def</th>\n",
       "      <th>Speed</th>\n",
       "      <th>Generation</th>\n",
       "      <th>Legendary</th>\n",
       "    </tr>\n",
       "  </thead>\n",
       "  <tbody>\n",
       "    <tr>\n",
       "      <th>0</th>\n",
       "      <td>1</td>\n",
       "      <td>Bulbasaur</td>\n",
       "      <td>Grass</td>\n",
       "      <td>Poison</td>\n",
       "      <td>45</td>\n",
       "      <td>49</td>\n",
       "      <td>49</td>\n",
       "      <td>65</td>\n",
       "      <td>65</td>\n",
       "      <td>45</td>\n",
       "      <td>1</td>\n",
       "      <td>False</td>\n",
       "    </tr>\n",
       "    <tr>\n",
       "      <th>1</th>\n",
       "      <td>2</td>\n",
       "      <td>Ivysaur</td>\n",
       "      <td>Grass</td>\n",
       "      <td>Poison</td>\n",
       "      <td>60</td>\n",
       "      <td>62</td>\n",
       "      <td>63</td>\n",
       "      <td>80</td>\n",
       "      <td>80</td>\n",
       "      <td>60</td>\n",
       "      <td>1</td>\n",
       "      <td>False</td>\n",
       "    </tr>\n",
       "    <tr>\n",
       "      <th>2</th>\n",
       "      <td>3</td>\n",
       "      <td>Venusaur</td>\n",
       "      <td>Grass</td>\n",
       "      <td>Poison</td>\n",
       "      <td>80</td>\n",
       "      <td>82</td>\n",
       "      <td>83</td>\n",
       "      <td>100</td>\n",
       "      <td>100</td>\n",
       "      <td>80</td>\n",
       "      <td>1</td>\n",
       "      <td>False</td>\n",
       "    </tr>\n",
       "    <tr>\n",
       "      <th>3</th>\n",
       "      <td>4</td>\n",
       "      <td>Mega Venusaur</td>\n",
       "      <td>Grass</td>\n",
       "      <td>Poison</td>\n",
       "      <td>80</td>\n",
       "      <td>100</td>\n",
       "      <td>123</td>\n",
       "      <td>122</td>\n",
       "      <td>120</td>\n",
       "      <td>80</td>\n",
       "      <td>1</td>\n",
       "      <td>False</td>\n",
       "    </tr>\n",
       "    <tr>\n",
       "      <th>4</th>\n",
       "      <td>5</td>\n",
       "      <td>Charmander</td>\n",
       "      <td>Fire</td>\n",
       "      <td>NaN</td>\n",
       "      <td>39</td>\n",
       "      <td>52</td>\n",
       "      <td>43</td>\n",
       "      <td>60</td>\n",
       "      <td>50</td>\n",
       "      <td>65</td>\n",
       "      <td>1</td>\n",
       "      <td>False</td>\n",
       "    </tr>\n",
       "  </tbody>\n",
       "</table>\n",
       "</div>"
      ],
      "text/plain": [
       "   #           Name Type 1  Type 2  HP  Attack  Defense  Sp. Atk  Sp. Def  \\\n",
       "0  1      Bulbasaur  Grass  Poison  45      49       49       65       65   \n",
       "1  2        Ivysaur  Grass  Poison  60      62       63       80       80   \n",
       "2  3       Venusaur  Grass  Poison  80      82       83      100      100   \n",
       "3  4  Mega Venusaur  Grass  Poison  80     100      123      122      120   \n",
       "4  5     Charmander   Fire     NaN  39      52       43       60       50   \n",
       "\n",
       "   Speed  Generation  Legendary  \n",
       "0     45           1      False  \n",
       "1     60           1      False  \n",
       "2     80           1      False  \n",
       "3     80           1      False  \n",
       "4     65           1      False  "
      ]
     },
     "execution_count": 34,
     "metadata": {},
     "output_type": "execute_result"
    }
   ],
   "source": [
    "data.head()"
   ]
  },
  {
   "cell_type": "code",
   "execution_count": 36,
   "metadata": {},
   "outputs": [
    {
     "data": {
      "text/plain": [
       "#                       164\n",
       "Name          Mega Mewtwo X\n",
       "Type 1              Psychic\n",
       "Type 2             Fighting\n",
       "HP                      106\n",
       "Attack                  190\n",
       "Defense                 100\n",
       "Sp. Atk                 154\n",
       "Sp. Def                 100\n",
       "Speed                   130\n",
       "Generation                1\n",
       "Legendary              True\n",
       "Name: 163, dtype: object"
      ]
     },
     "execution_count": 36,
     "metadata": {},
     "output_type": "execute_result"
    }
   ],
   "source": [
    "data.iloc[data.Attack.idxmax()]"
   ]
  },
  {
   "cell_type": "code",
   "execution_count": 37,
   "metadata": {},
   "outputs": [
    {
     "data": {
      "text/plain": [
       "#                 122\n",
       "Name          Chansey\n",
       "Type 1         Normal\n",
       "Type 2            NaN\n",
       "HP                250\n",
       "Attack              5\n",
       "Defense             5\n",
       "Sp. Atk            35\n",
       "Sp. Def           105\n",
       "Speed              50\n",
       "Generation          1\n",
       "Legendary       False\n",
       "Name: 121, dtype: object"
      ]
     },
     "execution_count": 37,
     "metadata": {},
     "output_type": "execute_result"
    }
   ],
   "source": [
    "data.iloc[data.Attack.idxmin()]"
   ]
  },
  {
   "cell_type": "code",
   "execution_count": null,
   "metadata": {},
   "outputs": [],
   "source": [
    "data.plot.scatter(x=\"Attack\",y=\"Defence\")"
   ]
  }
 ],
 "metadata": {
  "kernelspec": {
   "display_name": "Python 3",
   "language": "python",
   "name": "python3"
  },
  "language_info": {
   "codemirror_mode": {
    "name": "ipython",
    "version": 3
   },
   "file_extension": ".py",
   "mimetype": "text/x-python",
   "name": "python",
   "nbconvert_exporter": "python",
   "pygments_lexer": "ipython3",
   "version": "3.7.0"
  }
 },
 "nbformat": 4,
 "nbformat_minor": 2
}
